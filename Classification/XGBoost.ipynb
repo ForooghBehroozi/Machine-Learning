{
 "cells": [
  {
   "cell_type": "code",
   "execution_count": 1,
   "id": "00b8e5e4",
   "metadata": {},
   "outputs": [],
   "source": [
    "import numpy as np\n",
    "import matplotlib.pyplot as plt\n",
    "import seaborn as sns\n",
    "import pandas as pd"
   ]
  },
  {
   "cell_type": "code",
   "execution_count": 2,
   "id": "4d625b66",
   "metadata": {},
   "outputs": [
    {
     "name": "stdout",
     "output_type": "stream",
     "text": [
      "Breast Cancer features: ['mean radius' 'mean texture' 'mean perimeter' 'mean area'\n",
      " 'mean smoothness' 'mean compactness' 'mean concavity'\n",
      " 'mean concave points' 'mean symmetry' 'mean fractal dimension'\n",
      " 'radius error' 'texture error' 'perimeter error' 'area error'\n",
      " 'smoothness error' 'compactness error' 'concavity error'\n",
      " 'concave points error' 'symmetry error' 'fractal dimension error'\n",
      " 'worst radius' 'worst texture' 'worst perimeter' 'worst area'\n",
      " 'worst smoothness' 'worst compactness' 'worst concavity'\n",
      " 'worst concave points' 'worst symmetry' 'worst fractal dimension']\n",
      "Breast Cancer target: ['malignant' 'benign']\n"
     ]
    }
   ],
   "source": [
    "from sklearn.datasets import load_breast_cancer\n",
    "\n",
    "breast_cancer = load_breast_cancer()\n",
    "\n",
    "X, y = breast_cancer.data, breast_cancer.target\n",
    "\n",
    "print(f\"Breast Cancer features: {breast_cancer.feature_names}\")\n",
    "print(f\"Breast Cancer target: {breast_cancer.target_names}\")"
   ]
  },
  {
   "cell_type": "code",
   "execution_count": 5,
   "id": "bf8a800b",
   "metadata": {},
   "outputs": [
    {
     "name": "stdout",
     "output_type": "stream",
     "text": [
      "Collecting xgboost\n",
      "  Downloading xgboost-2.1.2-py3-none-win_amd64.whl (124.9 MB)\n",
      "     -------------------------------------- 124.9/124.9 MB 8.5 MB/s eta 0:00:00\n",
      "Requirement already satisfied: scipy in c:\\users\\14184\\anaconda3\\lib\\site-packages (from xgboost) (1.10.0)\n",
      "Requirement already satisfied: numpy in c:\\users\\14184\\anaconda3\\lib\\site-packages (from xgboost) (1.23.5)\n",
      "Installing collected packages: xgboost\n",
      "Successfully installed xgboost-2.1.2\n"
     ]
    },
    {
     "name": "stderr",
     "output_type": "stream",
     "text": [
      "WARNING: Ignoring invalid distribution -rotobuf (c:\\users\\14184\\anaconda3\\lib\\site-packages)\n",
      "WARNING: Ignoring invalid distribution -rotobuf (c:\\users\\14184\\anaconda3\\lib\\site-packages)\n",
      "WARNING: Ignoring invalid distribution -rotobuf (c:\\users\\14184\\anaconda3\\lib\\site-packages)\n",
      "WARNING: Ignoring invalid distribution -rotobuf (c:\\users\\14184\\anaconda3\\lib\\site-packages)\n",
      "WARNING: Ignoring invalid distribution -rotobuf (c:\\users\\14184\\anaconda3\\lib\\site-packages)\n",
      "WARNING: Ignoring invalid distribution -rotobuf (c:\\users\\14184\\anaconda3\\lib\\site-packages)\n",
      "WARNING: Ignoring invalid distribution -rotobuf (c:\\users\\14184\\anaconda3\\lib\\site-packages)\n"
     ]
    }
   ],
   "source": [
    "!pip install xgboost"
   ]
  },
  {
   "cell_type": "code",
   "execution_count": 3,
   "id": "6f80730b",
   "metadata": {},
   "outputs": [
    {
     "name": "stdout",
     "output_type": "stream",
     "text": [
      "Shape of X_train: (455, 30), y_train: (455,)\n",
      "Shape of X_test: (114, 30), y_test: (114,)\n"
     ]
    }
   ],
   "source": [
    "from sklearn.model_selection import train_test_split\n",
    "X_train, X_test, y_train, y_test = train_test_split(X, y, test_size=0.2, random_state=42)\n",
    "\n",
    "print(f\"Shape of X_train: {X_train.shape}, y_train: {y_train.shape}\")\n",
    "print(f\"Shape of X_test: {X_test.shape}, y_test: {y_test.shape}\")"
   ]
  },
  {
   "cell_type": "code",
   "execution_count": 4,
   "id": "66354156",
   "metadata": {},
   "outputs": [
    {
     "name": "stdout",
     "output_type": "stream",
     "text": [
      "XGB Accuracy: 0.956\n",
      "XGB F1-Score: 0.956\n"
     ]
    }
   ],
   "source": [
    "# How it works\n",
    "# 1- Initialization: Starts with an initial prediction (e.g., mean value).\n",
    "# 2- Building Trees: Iteratively adds decision trees to minimize the loss function.\n",
    "# 3- Gradient Descent: Uses the gradients of the loss function to fit new trees, improving the model iteratively.\n",
    "# 4- Boosting Process: Combines the predictions of all trees to form a strong learner, reducing bias and variance.\n",
    "\n",
    "from xgboost import XGBClassifier, to_graphviz\n",
    "from sklearn.metrics import accuracy_score, f1_score\n",
    "\n",
    "xgb_model = XGBClassifier(eval_metric='logloss', random_state=42)\n",
    "xgb_model.fit(X_train, y_train.ravel())\n",
    "\n",
    "xgb_predictions = xgb_model.predict(X_test)\n",
    "\n",
    "print(f\"XGB Accuracy: {accuracy_score(y_test, xgb_predictions):.3f}\")\n",
    "print(f\"XGB F1-Score: {f1_score(y_test, xgb_predictions, average='weighted'):.3f}\")"
   ]
  },
  {
   "cell_type": "code",
   "execution_count": 5,
   "id": "a3e62d6b",
   "metadata": {},
   "outputs": [
    {
     "name": "stdout",
     "output_type": "stream",
     "text": [
      "Requirement already satisfied: graphviz in c:\\users\\14184\\anaconda3\\lib\\site-packages (0.20.3)\n"
     ]
    },
    {
     "name": "stderr",
     "output_type": "stream",
     "text": [
      "WARNING: Ignoring invalid distribution -rotobuf (c:\\users\\14184\\anaconda3\\lib\\site-packages)\n",
      "WARNING: Ignoring invalid distribution -rotobuf (c:\\users\\14184\\anaconda3\\lib\\site-packages)\n",
      "WARNING: Ignoring invalid distribution -rotobuf (c:\\users\\14184\\anaconda3\\lib\\site-packages)\n",
      "WARNING: Ignoring invalid distribution -rotobuf (c:\\users\\14184\\anaconda3\\lib\\site-packages)\n",
      "WARNING: Ignoring invalid distribution -rotobuf (c:\\users\\14184\\anaconda3\\lib\\site-packages)\n",
      "WARNING: Ignoring invalid distribution -rotobuf (c:\\users\\14184\\anaconda3\\lib\\site-packages)\n"
     ]
    }
   ],
   "source": [
    "!pip install graphviz"
   ]
  },
  {
   "cell_type": "code",
   "execution_count": 7,
   "id": "21ea2a46",
   "metadata": {},
   "outputs": [
    {
     "data": {
      "image/svg+xml": [
       "<?xml version=\"1.0\" encoding=\"UTF-8\" standalone=\"no\"?>\n",
       "<!DOCTYPE svg PUBLIC \"-//W3C//DTD SVG 1.1//EN\"\n",
       " \"http://www.w3.org/Graphics/SVG/1.1/DTD/svg11.dtd\">\n",
       "<!-- Generated by graphviz version 12.2.0 (20241103.1931)\n",
       " -->\n",
       "<!-- Pages: 1 -->\n",
       "<svg width=\"1038pt\" height=\"487pt\"\n",
       " viewBox=\"0.00 0.00 1038.25 486.50\" xmlns=\"http://www.w3.org/2000/svg\" xmlns:xlink=\"http://www.w3.org/1999/xlink\">\n",
       "<g id=\"graph0\" class=\"graph\" transform=\"scale(1 1) rotate(0) translate(4 482.5)\">\n",
       "<polygon fill=\"white\" stroke=\"none\" points=\"-4,4 -4,-482.5 1034.25,-482.5 1034.25,4 -4,4\"/>\n",
       "<!-- 0 -->\n",
       "<g id=\"node1\" class=\"node\">\n",
       "<title>0</title>\n",
       "<ellipse fill=\"none\" stroke=\"black\" cx=\"650.19\" cy=\"-460.5\" rx=\"143.48\" ry=\"18\"/>\n",
       "<text text-anchor=\"middle\" x=\"650.19\" y=\"-455.45\" font-family=\"Times New Roman,serif\" font-size=\"14.00\">worst concave points&lt;0.142399997</text>\n",
       "</g>\n",
       "<!-- 1 -->\n",
       "<g id=\"node2\" class=\"node\">\n",
       "<title>1</title>\n",
       "<ellipse fill=\"none\" stroke=\"black\" cx=\"538.19\" cy=\"-372\" rx=\"68.75\" ry=\"18\"/>\n",
       "<text text-anchor=\"middle\" x=\"538.19\" y=\"-366.95\" font-family=\"Times New Roman,serif\" font-size=\"14.00\">worst area&lt;967</text>\n",
       "</g>\n",
       "<!-- 0&#45;&gt;1 -->\n",
       "<g id=\"edge1\" class=\"edge\">\n",
       "<title>0&#45;&gt;1</title>\n",
       "<path fill=\"none\" stroke=\"#ff0000\" d=\"M628.06,-442.41C611.04,-429.27 587.34,-410.97 568.55,-396.45\"/>\n",
       "<polygon fill=\"#ff0000\" stroke=\"#ff0000\" points=\"570.76,-393.73 560.71,-390.39 566.48,-399.27 570.76,-393.73\"/>\n",
       "<text text-anchor=\"middle\" x=\"613.22\" y=\"-411.2\" font-family=\"Times New Roman,serif\" font-size=\"14.00\">yes</text>\n",
       "</g>\n",
       "<!-- 2 -->\n",
       "<g id=\"node3\" class=\"node\">\n",
       "<title>2</title>\n",
       "<ellipse fill=\"none\" stroke=\"black\" cx=\"764.19\" cy=\"-372\" rx=\"106.11\" ry=\"18\"/>\n",
       "<text text-anchor=\"middle\" x=\"764.19\" y=\"-366.95\" font-family=\"Times New Roman,serif\" font-size=\"14.00\">worst radius&lt;14.8500004</text>\n",
       "</g>\n",
       "<!-- 0&#45;&gt;2 -->\n",
       "<g id=\"edge2\" class=\"edge\">\n",
       "<title>0&#45;&gt;2</title>\n",
       "<path fill=\"none\" stroke=\"#0000ff\" d=\"M672.71,-442.41C689.88,-429.38 713.75,-411.27 732.8,-396.82\"/>\n",
       "<polygon fill=\"#0000ff\" stroke=\"#0000ff\" points=\"734.65,-399.8 740.5,-390.97 730.42,-394.23 734.65,-399.8\"/>\n",
       "<text text-anchor=\"middle\" x=\"749.27\" y=\"-411.2\" font-family=\"Times New Roman,serif\" font-size=\"14.00\">no, missing</text>\n",
       "</g>\n",
       "<!-- 3 -->\n",
       "<g id=\"node4\" class=\"node\">\n",
       "<title>3</title>\n",
       "<ellipse fill=\"none\" stroke=\"black\" cx=\"300.19\" cy=\"-283.5\" rx=\"96.39\" ry=\"18\"/>\n",
       "<text text-anchor=\"middle\" x=\"300.19\" y=\"-278.45\" font-family=\"Times New Roman,serif\" font-size=\"14.00\">area error&lt;43.1399994</text>\n",
       "</g>\n",
       "<!-- 1&#45;&gt;3 -->\n",
       "<g id=\"edge3\" class=\"edge\">\n",
       "<title>1&#45;&gt;3</title>\n",
       "<path fill=\"none\" stroke=\"#ff0000\" d=\"M499.15,-356.81C459.43,-342.38 397.6,-319.9 353.41,-303.84\"/>\n",
       "<polygon fill=\"#ff0000\" stroke=\"#ff0000\" points=\"354.88,-300.65 344.28,-300.53 352.49,-307.23 354.88,-300.65\"/>\n",
       "<text text-anchor=\"middle\" x=\"449.5\" y=\"-322.7\" font-family=\"Times New Roman,serif\" font-size=\"14.00\">yes</text>\n",
       "</g>\n",
       "<!-- 4 -->\n",
       "<g id=\"node5\" class=\"node\">\n",
       "<title>4</title>\n",
       "<ellipse fill=\"none\" stroke=\"black\" cx=\"538.19\" cy=\"-283.5\" rx=\"124.03\" ry=\"18\"/>\n",
       "<text text-anchor=\"middle\" x=\"538.19\" y=\"-278.45\" font-family=\"Times New Roman,serif\" font-size=\"14.00\">worst concavity&lt;0.193499997</text>\n",
       "</g>\n",
       "<!-- 1&#45;&gt;4 -->\n",
       "<g id=\"edge4\" class=\"edge\">\n",
       "<title>1&#45;&gt;4</title>\n",
       "<path fill=\"none\" stroke=\"#0000ff\" d=\"M538.19,-353.91C538.19,-342.26 538.19,-326.55 538.19,-313.02\"/>\n",
       "<polygon fill=\"#0000ff\" stroke=\"#0000ff\" points=\"541.69,-313.36 538.19,-303.36 534.69,-313.36 541.69,-313.36\"/>\n",
       "<text text-anchor=\"middle\" x=\"570.06\" y=\"-322.7\" font-family=\"Times New Roman,serif\" font-size=\"14.00\">no, missing</text>\n",
       "</g>\n",
       "<!-- 5 -->\n",
       "<g id=\"node14\" class=\"node\">\n",
       "<title>5</title>\n",
       "<ellipse fill=\"none\" stroke=\"black\" cx=\"764.19\" cy=\"-283.5\" rx=\"83.6\" ry=\"18\"/>\n",
       "<text text-anchor=\"middle\" x=\"764.19\" y=\"-278.45\" font-family=\"Times New Roman,serif\" font-size=\"14.00\">leaf=0.0354979485</text>\n",
       "</g>\n",
       "<!-- 2&#45;&gt;5 -->\n",
       "<g id=\"edge13\" class=\"edge\">\n",
       "<title>2&#45;&gt;5</title>\n",
       "<path fill=\"none\" stroke=\"#ff0000\" d=\"M764.19,-353.91C764.19,-342.26 764.19,-326.55 764.19,-313.02\"/>\n",
       "<polygon fill=\"#ff0000\" stroke=\"#ff0000\" points=\"767.69,-313.36 764.19,-303.36 760.69,-313.36 767.69,-313.36\"/>\n",
       "<text text-anchor=\"middle\" x=\"773.19\" y=\"-322.7\" font-family=\"Times New Roman,serif\" font-size=\"14.00\">yes</text>\n",
       "</g>\n",
       "<!-- 6 -->\n",
       "<g id=\"node15\" class=\"node\">\n",
       "<title>6</title>\n",
       "<ellipse fill=\"none\" stroke=\"black\" cx=\"948.19\" cy=\"-283.5\" rx=\"82.06\" ry=\"18\"/>\n",
       "<text text-anchor=\"middle\" x=\"948.19\" y=\"-278.45\" font-family=\"Times New Roman,serif\" font-size=\"14.00\">leaf=&#45;0.752050817</text>\n",
       "</g>\n",
       "<!-- 2&#45;&gt;6 -->\n",
       "<g id=\"edge14\" class=\"edge\">\n",
       "<title>2&#45;&gt;6</title>\n",
       "<path fill=\"none\" stroke=\"#0000ff\" d=\"M798.79,-354.73C828.76,-340.64 872.25,-320.2 904.59,-305\"/>\n",
       "<polygon fill=\"#0000ff\" stroke=\"#0000ff\" points=\"905.73,-308.33 913.29,-300.9 902.75,-301.99 905.73,-308.33\"/>\n",
       "<text text-anchor=\"middle\" x=\"904.54\" y=\"-322.7\" font-family=\"Times New Roman,serif\" font-size=\"14.00\">no, missing</text>\n",
       "</g>\n",
       "<!-- 7 -->\n",
       "<g id=\"node6\" class=\"node\">\n",
       "<title>7</title>\n",
       "<ellipse fill=\"none\" stroke=\"black\" cx=\"109.19\" cy=\"-195\" rx=\"109.19\" ry=\"18\"/>\n",
       "<text text-anchor=\"middle\" x=\"109.19\" y=\"-189.95\" font-family=\"Times New Roman,serif\" font-size=\"14.00\">mean texture&lt;22.4699993</text>\n",
       "</g>\n",
       "<!-- 3&#45;&gt;7 -->\n",
       "<g id=\"edge5\" class=\"edge\">\n",
       "<title>3&#45;&gt;7</title>\n",
       "<path fill=\"none\" stroke=\"#ff0000\" d=\"M264.71,-266.43C234.04,-252.55 189.49,-232.37 155.93,-217.17\"/>\n",
       "<polygon fill=\"#ff0000\" stroke=\"#ff0000\" points=\"157.38,-213.98 146.83,-213.05 154.49,-220.36 157.38,-213.98\"/>\n",
       "<text text-anchor=\"middle\" x=\"230.79\" y=\"-234.2\" font-family=\"Times New Roman,serif\" font-size=\"14.00\">yes</text>\n",
       "</g>\n",
       "<!-- 8 -->\n",
       "<g id=\"node7\" class=\"node\">\n",
       "<title>8</title>\n",
       "<ellipse fill=\"none\" stroke=\"black\" cx=\"323.19\" cy=\"-195\" rx=\"86.67\" ry=\"18\"/>\n",
       "<text text-anchor=\"middle\" x=\"323.19\" y=\"-189.95\" font-family=\"Times New Roman,serif\" font-size=\"14.00\">leaf=&#45;0.0610412769</text>\n",
       "</g>\n",
       "<!-- 3&#45;&gt;8 -->\n",
       "<g id=\"edge6\" class=\"edge\">\n",
       "<title>3&#45;&gt;8</title>\n",
       "<path fill=\"none\" stroke=\"#0000ff\" d=\"M304.73,-265.41C307.86,-253.64 312.09,-237.73 315.71,-224.11\"/>\n",
       "<polygon fill=\"#0000ff\" stroke=\"#0000ff\" points=\"319,-225.38 318.18,-214.81 312.23,-223.58 319,-225.38\"/>\n",
       "<text text-anchor=\"middle\" x=\"345.62\" y=\"-234.2\" font-family=\"Times New Roman,serif\" font-size=\"14.00\">no, missing</text>\n",
       "</g>\n",
       "<!-- 9 -->\n",
       "<g id=\"node12\" class=\"node\">\n",
       "<title>9</title>\n",
       "<ellipse fill=\"none\" stroke=\"black\" cx=\"526.19\" cy=\"-195\" rx=\"86.67\" ry=\"18\"/>\n",
       "<text text-anchor=\"middle\" x=\"526.19\" y=\"-189.95\" font-family=\"Times New Roman,serif\" font-size=\"14.00\">leaf=&#45;0.0178343486</text>\n",
       "</g>\n",
       "<!-- 4&#45;&gt;9 -->\n",
       "<g id=\"edge11\" class=\"edge\">\n",
       "<title>4&#45;&gt;9</title>\n",
       "<path fill=\"none\" stroke=\"#ff0000\" d=\"M535.81,-265.41C534.2,-253.76 532.02,-238.05 530.14,-224.52\"/>\n",
       "<polygon fill=\"#ff0000\" stroke=\"#ff0000\" points=\"533.64,-224.27 528.8,-214.85 526.71,-225.24 533.64,-224.27\"/>\n",
       "<text text-anchor=\"middle\" x=\"542.26\" y=\"-234.2\" font-family=\"Times New Roman,serif\" font-size=\"14.00\">yes</text>\n",
       "</g>\n",
       "<!-- 10 -->\n",
       "<g id=\"node13\" class=\"node\">\n",
       "<title>10</title>\n",
       "<ellipse fill=\"none\" stroke=\"black\" cx=\"713.19\" cy=\"-195\" rx=\"82.06\" ry=\"18\"/>\n",
       "<text text-anchor=\"middle\" x=\"713.19\" y=\"-189.95\" font-family=\"Times New Roman,serif\" font-size=\"14.00\">leaf=&#45;0.624066591</text>\n",
       "</g>\n",
       "<!-- 4&#45;&gt;10 -->\n",
       "<g id=\"edge12\" class=\"edge\">\n",
       "<title>4&#45;&gt;10</title>\n",
       "<path fill=\"none\" stroke=\"#0000ff\" d=\"M571.93,-265.82C600.09,-251.9 640.39,-231.98 670.74,-216.98\"/>\n",
       "<polygon fill=\"#0000ff\" stroke=\"#0000ff\" points=\"672.25,-220.14 679.67,-212.57 669.15,-213.86 672.25,-220.14\"/>\n",
       "<text text-anchor=\"middle\" x=\"673.24\" y=\"-234.2\" font-family=\"Times New Roman,serif\" font-size=\"14.00\">no, missing</text>\n",
       "</g>\n",
       "<!-- 11 -->\n",
       "<g id=\"node8\" class=\"node\">\n",
       "<title>11</title>\n",
       "<ellipse fill=\"none\" stroke=\"black\" cx=\"89.19\" cy=\"-106.5\" rx=\"78.99\" ry=\"18\"/>\n",
       "<text text-anchor=\"middle\" x=\"89.19\" y=\"-101.45\" font-family=\"Times New Roman,serif\" font-size=\"14.00\">leaf=0.466026396</text>\n",
       "</g>\n",
       "<!-- 7&#45;&gt;11 -->\n",
       "<g id=\"edge7\" class=\"edge\">\n",
       "<title>7&#45;&gt;11</title>\n",
       "<path fill=\"none\" stroke=\"#ff0000\" d=\"M105.23,-176.91C102.54,-165.26 98.91,-149.55 95.78,-136.02\"/>\n",
       "<polygon fill=\"#ff0000\" stroke=\"#ff0000\" points=\"99.2,-135.28 93.54,-126.32 92.38,-136.86 99.2,-135.28\"/>\n",
       "<text text-anchor=\"middle\" x=\"109.98\" y=\"-145.7\" font-family=\"Times New Roman,serif\" font-size=\"14.00\">yes</text>\n",
       "</g>\n",
       "<!-- 12 -->\n",
       "<g id=\"node9\" class=\"node\">\n",
       "<title>12</title>\n",
       "<ellipse fill=\"none\" stroke=\"black\" cx=\"305.19\" cy=\"-106.5\" rx=\"119.42\" ry=\"18\"/>\n",
       "<text text-anchor=\"middle\" x=\"305.19\" y=\"-101.45\" font-family=\"Times New Roman,serif\" font-size=\"14.00\">worst perimeter&lt;100.300003</text>\n",
       "</g>\n",
       "<!-- 7&#45;&gt;12 -->\n",
       "<g id=\"edge8\" class=\"edge\">\n",
       "<title>7&#45;&gt;12</title>\n",
       "<path fill=\"none\" stroke=\"#0000ff\" d=\"M146.05,-177.73C177.61,-163.8 223.24,-143.66 257.56,-128.52\"/>\n",
       "<polygon fill=\"#0000ff\" stroke=\"#0000ff\" points=\"258.7,-131.84 266.43,-124.6 255.87,-125.44 258.7,-131.84\"/>\n",
       "<text text-anchor=\"middle\" x=\"256.62\" y=\"-145.7\" font-family=\"Times New Roman,serif\" font-size=\"14.00\">no, missing</text>\n",
       "</g>\n",
       "<!-- 13 -->\n",
       "<g id=\"node10\" class=\"node\">\n",
       "<title>13</title>\n",
       "<ellipse fill=\"none\" stroke=\"black\" cx=\"215.19\" cy=\"-18\" rx=\"78.99\" ry=\"18\"/>\n",
       "<text text-anchor=\"middle\" x=\"215.19\" y=\"-12.95\" font-family=\"Times New Roman,serif\" font-size=\"14.00\">leaf=0.357332528</text>\n",
       "</g>\n",
       "<!-- 12&#45;&gt;13 -->\n",
       "<g id=\"edge9\" class=\"edge\">\n",
       "<title>12&#45;&gt;13</title>\n",
       "<path fill=\"none\" stroke=\"#ff0000\" d=\"M287.4,-88.41C274.13,-75.65 255.79,-58.03 240.92,-43.73\"/>\n",
       "<polygon fill=\"#ff0000\" stroke=\"#ff0000\" points=\"243.35,-41.21 233.71,-36.81 238.5,-46.26 243.35,-41.21\"/>\n",
       "<text text-anchor=\"middle\" x=\"277.25\" y=\"-57.2\" font-family=\"Times New Roman,serif\" font-size=\"14.00\">yes</text>\n",
       "</g>\n",
       "<!-- 14 -->\n",
       "<g id=\"node11\" class=\"node\">\n",
       "<title>14</title>\n",
       "<ellipse fill=\"none\" stroke=\"black\" cx=\"394.19\" cy=\"-18\" rx=\"82.06\" ry=\"18\"/>\n",
       "<text text-anchor=\"middle\" x=\"394.19\" y=\"-12.95\" font-family=\"Times New Roman,serif\" font-size=\"14.00\">leaf=&#45;0.156942219</text>\n",
       "</g>\n",
       "<!-- 12&#45;&gt;14 -->\n",
       "<g id=\"edge10\" class=\"edge\">\n",
       "<title>12&#45;&gt;14</title>\n",
       "<path fill=\"none\" stroke=\"#0000ff\" d=\"M322.77,-88.41C335.81,-75.73 353.8,-58.25 368.46,-44.01\"/>\n",
       "<polygon fill=\"#0000ff\" stroke=\"#0000ff\" points=\"370.82,-46.59 375.55,-37.11 365.94,-41.57 370.82,-46.59\"/>\n",
       "<text text-anchor=\"middle\" x=\"389.53\" y=\"-57.2\" font-family=\"Times New Roman,serif\" font-size=\"14.00\">no, missing</text>\n",
       "</g>\n",
       "</g>\n",
       "</svg>\n"
      ],
      "text/plain": [
       "<graphviz.sources.Source at 0x18fcaef3c10>"
      ]
     },
     "execution_count": 7,
     "metadata": {},
     "output_type": "execute_result"
    }
   ],
   "source": [
    "import os\n",
    "\n",
    "# Add Graphviz bin directory to PATH\n",
    "os.environ[\"PATH\"] += os.pathsep + r\"C:\\Program Files\\Graphviz\\bin\"\n",
    "\n",
    "from xgboost import to_graphviz\n",
    "\n",
    "graph = to_graphviz(xgb_model)\n",
    "graph"
   ]
  },
  {
   "cell_type": "code",
   "execution_count": null,
   "id": "eb46ae22",
   "metadata": {},
   "outputs": [],
   "source": []
  },
  {
   "cell_type": "code",
   "execution_count": null,
   "id": "f441ec62",
   "metadata": {},
   "outputs": [],
   "source": []
  },
  {
   "cell_type": "code",
   "execution_count": null,
   "id": "49749c5c",
   "metadata": {},
   "outputs": [],
   "source": []
  }
 ],
 "metadata": {
  "kernelspec": {
   "display_name": "Python 3 (ipykernel)",
   "language": "python",
   "name": "python3"
  },
  "language_info": {
   "codemirror_mode": {
    "name": "ipython",
    "version": 3
   },
   "file_extension": ".py",
   "mimetype": "text/x-python",
   "name": "python",
   "nbconvert_exporter": "python",
   "pygments_lexer": "ipython3",
   "version": "3.10.9"
  }
 },
 "nbformat": 4,
 "nbformat_minor": 5
}
